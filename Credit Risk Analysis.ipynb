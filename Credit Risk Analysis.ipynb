{
 "cells": [
  {
   "cell_type": "code",
   "execution_count": 2,
   "id": "0a16c5fd",
   "metadata": {},
   "outputs": [],
   "source": [
    "import pandas as pd\n",
    "import numpy as np\n",
    "import matplotlib.pyplot as plt\n",
    "import seaborn as sns"
   ]
  },
  {
   "cell_type": "code",
   "execution_count": 3,
   "id": "8abd7e97",
   "metadata": {},
   "outputs": [
    {
     "data": {
      "text/html": [
       "<div>\n",
       "<style scoped>\n",
       "    .dataframe tbody tr th:only-of-type {\n",
       "        vertical-align: middle;\n",
       "    }\n",
       "\n",
       "    .dataframe tbody tr th {\n",
       "        vertical-align: top;\n",
       "    }\n",
       "\n",
       "    .dataframe thead th {\n",
       "        text-align: right;\n",
       "    }\n",
       "</style>\n",
       "<table border=\"1\" class=\"dataframe\">\n",
       "  <thead>\n",
       "    <tr style=\"text-align: right;\">\n",
       "      <th></th>\n",
       "      <th>customer_id</th>\n",
       "      <th>name</th>\n",
       "      <th>age</th>\n",
       "      <th>gender</th>\n",
       "      <th>owns_car</th>\n",
       "      <th>owns_house</th>\n",
       "      <th>no_of_children</th>\n",
       "      <th>net_yearly_income</th>\n",
       "      <th>no_of_days_employed</th>\n",
       "      <th>occupation_type</th>\n",
       "      <th>total_family_members</th>\n",
       "      <th>migrant_worker</th>\n",
       "      <th>yearly_debt_payments</th>\n",
       "      <th>credit_limit</th>\n",
       "      <th>credit_limit_used(%)</th>\n",
       "      <th>credit_score</th>\n",
       "      <th>prev_defaults</th>\n",
       "      <th>default_in_last_6months</th>\n",
       "      <th>credit_card_default</th>\n",
       "    </tr>\n",
       "  </thead>\n",
       "  <tbody>\n",
       "    <tr>\n",
       "      <th>0</th>\n",
       "      <td>CST_115179</td>\n",
       "      <td>ita Bose</td>\n",
       "      <td>46</td>\n",
       "      <td>F</td>\n",
       "      <td>N</td>\n",
       "      <td>Y</td>\n",
       "      <td>0.0</td>\n",
       "      <td>107934.04</td>\n",
       "      <td>612.0</td>\n",
       "      <td>Unknown</td>\n",
       "      <td>1.0</td>\n",
       "      <td>1.0</td>\n",
       "      <td>33070.28</td>\n",
       "      <td>18690.93</td>\n",
       "      <td>73</td>\n",
       "      <td>544.0</td>\n",
       "      <td>2</td>\n",
       "      <td>1</td>\n",
       "      <td>1</td>\n",
       "    </tr>\n",
       "    <tr>\n",
       "      <th>1</th>\n",
       "      <td>CST_121920</td>\n",
       "      <td>Alper Jonathan</td>\n",
       "      <td>29</td>\n",
       "      <td>M</td>\n",
       "      <td>N</td>\n",
       "      <td>Y</td>\n",
       "      <td>0.0</td>\n",
       "      <td>109862.62</td>\n",
       "      <td>2771.0</td>\n",
       "      <td>Laborers</td>\n",
       "      <td>2.0</td>\n",
       "      <td>0.0</td>\n",
       "      <td>15329.53</td>\n",
       "      <td>37745.19</td>\n",
       "      <td>52</td>\n",
       "      <td>857.0</td>\n",
       "      <td>0</td>\n",
       "      <td>0</td>\n",
       "      <td>0</td>\n",
       "    </tr>\n",
       "    <tr>\n",
       "      <th>2</th>\n",
       "      <td>CST_109330</td>\n",
       "      <td>Umesh Desai</td>\n",
       "      <td>37</td>\n",
       "      <td>M</td>\n",
       "      <td>N</td>\n",
       "      <td>Y</td>\n",
       "      <td>0.0</td>\n",
       "      <td>230153.17</td>\n",
       "      <td>204.0</td>\n",
       "      <td>Laborers</td>\n",
       "      <td>2.0</td>\n",
       "      <td>0.0</td>\n",
       "      <td>48416.60</td>\n",
       "      <td>41598.36</td>\n",
       "      <td>43</td>\n",
       "      <td>650.0</td>\n",
       "      <td>0</td>\n",
       "      <td>0</td>\n",
       "      <td>0</td>\n",
       "    </tr>\n",
       "    <tr>\n",
       "      <th>3</th>\n",
       "      <td>CST_128288</td>\n",
       "      <td>Rie</td>\n",
       "      <td>39</td>\n",
       "      <td>F</td>\n",
       "      <td>N</td>\n",
       "      <td>Y</td>\n",
       "      <td>0.0</td>\n",
       "      <td>122325.82</td>\n",
       "      <td>11941.0</td>\n",
       "      <td>Core staff</td>\n",
       "      <td>2.0</td>\n",
       "      <td>0.0</td>\n",
       "      <td>22574.36</td>\n",
       "      <td>32627.76</td>\n",
       "      <td>20</td>\n",
       "      <td>754.0</td>\n",
       "      <td>0</td>\n",
       "      <td>0</td>\n",
       "      <td>0</td>\n",
       "    </tr>\n",
       "    <tr>\n",
       "      <th>4</th>\n",
       "      <td>CST_151355</td>\n",
       "      <td>McCool</td>\n",
       "      <td>46</td>\n",
       "      <td>M</td>\n",
       "      <td>Y</td>\n",
       "      <td>Y</td>\n",
       "      <td>0.0</td>\n",
       "      <td>387286.00</td>\n",
       "      <td>1459.0</td>\n",
       "      <td>Core staff</td>\n",
       "      <td>1.0</td>\n",
       "      <td>0.0</td>\n",
       "      <td>38282.95</td>\n",
       "      <td>52950.64</td>\n",
       "      <td>75</td>\n",
       "      <td>927.0</td>\n",
       "      <td>0</td>\n",
       "      <td>0</td>\n",
       "      <td>0</td>\n",
       "    </tr>\n",
       "  </tbody>\n",
       "</table>\n",
       "</div>"
      ],
      "text/plain": [
       "  customer_id            name  age gender owns_car owns_house  no_of_children  \\\n",
       "0  CST_115179        ita Bose   46      F        N          Y             0.0   \n",
       "1  CST_121920  Alper Jonathan   29      M        N          Y             0.0   \n",
       "2  CST_109330     Umesh Desai   37      M        N          Y             0.0   \n",
       "3  CST_128288             Rie   39      F        N          Y             0.0   \n",
       "4  CST_151355          McCool   46      M        Y          Y             0.0   \n",
       "\n",
       "   net_yearly_income  no_of_days_employed occupation_type  \\\n",
       "0          107934.04                612.0         Unknown   \n",
       "1          109862.62               2771.0        Laborers   \n",
       "2          230153.17                204.0        Laborers   \n",
       "3          122325.82              11941.0      Core staff   \n",
       "4          387286.00               1459.0      Core staff   \n",
       "\n",
       "   total_family_members  migrant_worker  yearly_debt_payments  credit_limit  \\\n",
       "0                   1.0             1.0              33070.28      18690.93   \n",
       "1                   2.0             0.0              15329.53      37745.19   \n",
       "2                   2.0             0.0              48416.60      41598.36   \n",
       "3                   2.0             0.0              22574.36      32627.76   \n",
       "4                   1.0             0.0              38282.95      52950.64   \n",
       "\n",
       "   credit_limit_used(%)  credit_score  prev_defaults  default_in_last_6months  \\\n",
       "0                    73         544.0              2                        1   \n",
       "1                    52         857.0              0                        0   \n",
       "2                    43         650.0              0                        0   \n",
       "3                    20         754.0              0                        0   \n",
       "4                    75         927.0              0                        0   \n",
       "\n",
       "   credit_card_default  \n",
       "0                    1  \n",
       "1                    0  \n",
       "2                    0  \n",
       "3                    0  \n",
       "4                    0  "
      ]
     },
     "execution_count": 3,
     "metadata": {},
     "output_type": "execute_result"
    }
   ],
   "source": [
    "train = pd.read_csv(r'C:\\Users\\kasar\\Downloads\\credit-risk-analysis-using-ML-main/train.csv')\n",
    "train.head()"
   ]
  },
  {
   "cell_type": "code",
   "execution_count": 4,
   "id": "520fdaf4",
   "metadata": {},
   "outputs": [
    {
     "data": {
      "text/plain": [
       "credit_card_default\n",
       "0    0.918797\n",
       "1    0.081203\n",
       "Name: proportion, dtype: float64"
      ]
     },
     "execution_count": 4,
     "metadata": {},
     "output_type": "execute_result"
    }
   ],
   "source": [
    "train[\"credit_card_default\"].value_counts(normalize=True)"
   ]
  },
  {
   "cell_type": "code",
   "execution_count": 5,
   "id": "7728180b",
   "metadata": {},
   "outputs": [
    {
     "data": {
      "text/html": [
       "<div>\n",
       "<style scoped>\n",
       "    .dataframe tbody tr th:only-of-type {\n",
       "        vertical-align: middle;\n",
       "    }\n",
       "\n",
       "    .dataframe tbody tr th {\n",
       "        vertical-align: top;\n",
       "    }\n",
       "\n",
       "    .dataframe thead th {\n",
       "        text-align: right;\n",
       "    }\n",
       "</style>\n",
       "<table border=\"1\" class=\"dataframe\">\n",
       "  <thead>\n",
       "    <tr style=\"text-align: right;\">\n",
       "      <th></th>\n",
       "      <th>customer_id</th>\n",
       "      <th>name</th>\n",
       "      <th>age</th>\n",
       "      <th>gender</th>\n",
       "      <th>owns_car</th>\n",
       "      <th>owns_house</th>\n",
       "      <th>no_of_children</th>\n",
       "      <th>net_yearly_income</th>\n",
       "      <th>no_of_days_employed</th>\n",
       "      <th>occupation_type</th>\n",
       "      <th>total_family_members</th>\n",
       "      <th>migrant_worker</th>\n",
       "      <th>yearly_debt_payments</th>\n",
       "      <th>credit_limit</th>\n",
       "      <th>credit_limit_used(%)</th>\n",
       "      <th>credit_score</th>\n",
       "      <th>prev_defaults</th>\n",
       "      <th>default_in_last_6months</th>\n",
       "      <th>credit_card_default</th>\n",
       "    </tr>\n",
       "  </thead>\n",
       "  <tbody>\n",
       "    <tr>\n",
       "      <th>34126</th>\n",
       "      <td>CST_163708</td>\n",
       "      <td>Wachtel</td>\n",
       "      <td>50</td>\n",
       "      <td>F</td>\n",
       "      <td>N</td>\n",
       "      <td>Y</td>\n",
       "      <td>0.0</td>\n",
       "      <td>269502.14</td>\n",
       "      <td>4181.0</td>\n",
       "      <td>Unknown</td>\n",
       "      <td>1.0</td>\n",
       "      <td>0.0</td>\n",
       "      <td>17440.44</td>\n",
       "      <td>36017.45</td>\n",
       "      <td>23</td>\n",
       "      <td>807.0</td>\n",
       "      <td>0</td>\n",
       "      <td>0</td>\n",
       "      <td>0</td>\n",
       "    </tr>\n",
       "    <tr>\n",
       "      <th>44609</th>\n",
       "      <td>CST_131305</td>\n",
       "      <td>Deepa</td>\n",
       "      <td>29</td>\n",
       "      <td>F</td>\n",
       "      <td>N</td>\n",
       "      <td>Y</td>\n",
       "      <td>0.0</td>\n",
       "      <td>115795.25</td>\n",
       "      <td>365250.0</td>\n",
       "      <td>Unknown</td>\n",
       "      <td>2.0</td>\n",
       "      <td>0.0</td>\n",
       "      <td>28962.21</td>\n",
       "      <td>21781.38</td>\n",
       "      <td>60</td>\n",
       "      <td>858.0</td>\n",
       "      <td>0</td>\n",
       "      <td>0</td>\n",
       "      <td>0</td>\n",
       "    </tr>\n",
       "    <tr>\n",
       "      <th>44264</th>\n",
       "      <td>CST_131350</td>\n",
       "      <td>Jason</td>\n",
       "      <td>39</td>\n",
       "      <td>F</td>\n",
       "      <td>N</td>\n",
       "      <td>Y</td>\n",
       "      <td>0.0</td>\n",
       "      <td>113477.67</td>\n",
       "      <td>365241.0</td>\n",
       "      <td>Unknown</td>\n",
       "      <td>2.0</td>\n",
       "      <td>0.0</td>\n",
       "      <td>27463.96</td>\n",
       "      <td>27485.15</td>\n",
       "      <td>81</td>\n",
       "      <td>667.0</td>\n",
       "      <td>0</td>\n",
       "      <td>0</td>\n",
       "      <td>1</td>\n",
       "    </tr>\n",
       "    <tr>\n",
       "      <th>33556</th>\n",
       "      <td>CST_106655</td>\n",
       "      <td>Gilbert Kreijger</td>\n",
       "      <td>35</td>\n",
       "      <td>F</td>\n",
       "      <td>Y</td>\n",
       "      <td>Y</td>\n",
       "      <td>1.0</td>\n",
       "      <td>215555.19</td>\n",
       "      <td>1882.0</td>\n",
       "      <td>Managers</td>\n",
       "      <td>3.0</td>\n",
       "      <td>0.0</td>\n",
       "      <td>47863.75</td>\n",
       "      <td>25054.25</td>\n",
       "      <td>32</td>\n",
       "      <td>690.0</td>\n",
       "      <td>0</td>\n",
       "      <td>0</td>\n",
       "      <td>0</td>\n",
       "    </tr>\n",
       "    <tr>\n",
       "      <th>28050</th>\n",
       "      <td>CST_154013</td>\n",
       "      <td>Slater</td>\n",
       "      <td>53</td>\n",
       "      <td>M</td>\n",
       "      <td>Y</td>\n",
       "      <td>Y</td>\n",
       "      <td>0.0</td>\n",
       "      <td>185082.22</td>\n",
       "      <td>365244.0</td>\n",
       "      <td>Unknown</td>\n",
       "      <td>2.0</td>\n",
       "      <td>0.0</td>\n",
       "      <td>47185.73</td>\n",
       "      <td>65186.23</td>\n",
       "      <td>65</td>\n",
       "      <td>721.0</td>\n",
       "      <td>0</td>\n",
       "      <td>0</td>\n",
       "      <td>0</td>\n",
       "    </tr>\n",
       "    <tr>\n",
       "      <th>...</th>\n",
       "      <td>...</td>\n",
       "      <td>...</td>\n",
       "      <td>...</td>\n",
       "      <td>...</td>\n",
       "      <td>...</td>\n",
       "      <td>...</td>\n",
       "      <td>...</td>\n",
       "      <td>...</td>\n",
       "      <td>...</td>\n",
       "      <td>...</td>\n",
       "      <td>...</td>\n",
       "      <td>...</td>\n",
       "      <td>...</td>\n",
       "      <td>...</td>\n",
       "      <td>...</td>\n",
       "      <td>...</td>\n",
       "      <td>...</td>\n",
       "      <td>...</td>\n",
       "      <td>...</td>\n",
       "    </tr>\n",
       "    <tr>\n",
       "      <th>37523</th>\n",
       "      <td>CST_113336</td>\n",
       "      <td>Leika Kihara</td>\n",
       "      <td>26</td>\n",
       "      <td>F</td>\n",
       "      <td>N</td>\n",
       "      <td>Y</td>\n",
       "      <td>0.0</td>\n",
       "      <td>95125.83</td>\n",
       "      <td>365244.0</td>\n",
       "      <td>Unknown</td>\n",
       "      <td>1.0</td>\n",
       "      <td>0.0</td>\n",
       "      <td>18408.08</td>\n",
       "      <td>26632.82</td>\n",
       "      <td>2</td>\n",
       "      <td>790.0</td>\n",
       "      <td>0</td>\n",
       "      <td>0</td>\n",
       "      <td>0</td>\n",
       "    </tr>\n",
       "    <tr>\n",
       "      <th>36228</th>\n",
       "      <td>CST_151817</td>\n",
       "      <td>Dixon</td>\n",
       "      <td>31</td>\n",
       "      <td>F</td>\n",
       "      <td>N</td>\n",
       "      <td>N</td>\n",
       "      <td>0.0</td>\n",
       "      <td>119277.91</td>\n",
       "      <td>891.0</td>\n",
       "      <td>Laborers</td>\n",
       "      <td>2.0</td>\n",
       "      <td>0.0</td>\n",
       "      <td>18243.68</td>\n",
       "      <td>16150.12</td>\n",
       "      <td>18</td>\n",
       "      <td>791.0</td>\n",
       "      <td>0</td>\n",
       "      <td>0</td>\n",
       "      <td>0</td>\n",
       "    </tr>\n",
       "    <tr>\n",
       "      <th>32772</th>\n",
       "      <td>CST_107659</td>\n",
       "      <td>P.J. Huffstutter</td>\n",
       "      <td>50</td>\n",
       "      <td>F</td>\n",
       "      <td>N</td>\n",
       "      <td>N</td>\n",
       "      <td>0.0</td>\n",
       "      <td>214846.93</td>\n",
       "      <td>1740.0</td>\n",
       "      <td>Sales staff</td>\n",
       "      <td>2.0</td>\n",
       "      <td>0.0</td>\n",
       "      <td>16482.42</td>\n",
       "      <td>27253.76</td>\n",
       "      <td>16</td>\n",
       "      <td>709.0</td>\n",
       "      <td>0</td>\n",
       "      <td>0</td>\n",
       "      <td>0</td>\n",
       "    </tr>\n",
       "    <tr>\n",
       "      <th>9762</th>\n",
       "      <td>CST_141352</td>\n",
       "      <td>an</td>\n",
       "      <td>25</td>\n",
       "      <td>M</td>\n",
       "      <td>N</td>\n",
       "      <td>Y</td>\n",
       "      <td>0.0</td>\n",
       "      <td>175005.61</td>\n",
       "      <td>653.0</td>\n",
       "      <td>Laborers</td>\n",
       "      <td>2.0</td>\n",
       "      <td>0.0</td>\n",
       "      <td>19366.06</td>\n",
       "      <td>35727.99</td>\n",
       "      <td>9</td>\n",
       "      <td>691.0</td>\n",
       "      <td>0</td>\n",
       "      <td>0</td>\n",
       "      <td>0</td>\n",
       "    </tr>\n",
       "    <tr>\n",
       "      <th>33325</th>\n",
       "      <td>CST_129867</td>\n",
       "      <td>Hyunjoo</td>\n",
       "      <td>50</td>\n",
       "      <td>F</td>\n",
       "      <td>N</td>\n",
       "      <td>N</td>\n",
       "      <td>0.0</td>\n",
       "      <td>139512.15</td>\n",
       "      <td>939.0</td>\n",
       "      <td>Core staff</td>\n",
       "      <td>1.0</td>\n",
       "      <td>1.0</td>\n",
       "      <td>17139.86</td>\n",
       "      <td>23630.38</td>\n",
       "      <td>49</td>\n",
       "      <td>791.0</td>\n",
       "      <td>0</td>\n",
       "      <td>0</td>\n",
       "      <td>0</td>\n",
       "    </tr>\n",
       "  </tbody>\n",
       "</table>\n",
       "<p>30000 rows × 19 columns</p>\n",
       "</div>"
      ],
      "text/plain": [
       "      customer_id              name  age gender owns_car owns_house  \\\n",
       "34126  CST_163708           Wachtel   50      F        N          Y   \n",
       "44609  CST_131305             Deepa   29      F        N          Y   \n",
       "44264  CST_131350             Jason   39      F        N          Y   \n",
       "33556  CST_106655  Gilbert Kreijger   35      F        Y          Y   \n",
       "28050  CST_154013            Slater   53      M        Y          Y   \n",
       "...           ...               ...  ...    ...      ...        ...   \n",
       "37523  CST_113336      Leika Kihara   26      F        N          Y   \n",
       "36228  CST_151817             Dixon   31      F        N          N   \n",
       "32772  CST_107659  P.J. Huffstutter   50      F        N          N   \n",
       "9762   CST_141352                an   25      M        N          Y   \n",
       "33325  CST_129867           Hyunjoo   50      F        N          N   \n",
       "\n",
       "       no_of_children  net_yearly_income  no_of_days_employed occupation_type  \\\n",
       "34126             0.0          269502.14               4181.0         Unknown   \n",
       "44609             0.0          115795.25             365250.0         Unknown   \n",
       "44264             0.0          113477.67             365241.0         Unknown   \n",
       "33556             1.0          215555.19               1882.0        Managers   \n",
       "28050             0.0          185082.22             365244.0         Unknown   \n",
       "...               ...                ...                  ...             ...   \n",
       "37523             0.0           95125.83             365244.0         Unknown   \n",
       "36228             0.0          119277.91                891.0        Laborers   \n",
       "32772             0.0          214846.93               1740.0     Sales staff   \n",
       "9762              0.0          175005.61                653.0        Laborers   \n",
       "33325             0.0          139512.15                939.0      Core staff   \n",
       "\n",
       "       total_family_members  migrant_worker  yearly_debt_payments  \\\n",
       "34126                   1.0             0.0              17440.44   \n",
       "44609                   2.0             0.0              28962.21   \n",
       "44264                   2.0             0.0              27463.96   \n",
       "33556                   3.0             0.0              47863.75   \n",
       "28050                   2.0             0.0              47185.73   \n",
       "...                     ...             ...                   ...   \n",
       "37523                   1.0             0.0              18408.08   \n",
       "36228                   2.0             0.0              18243.68   \n",
       "32772                   2.0             0.0              16482.42   \n",
       "9762                    2.0             0.0              19366.06   \n",
       "33325                   1.0             1.0              17139.86   \n",
       "\n",
       "       credit_limit  credit_limit_used(%)  credit_score  prev_defaults  \\\n",
       "34126      36017.45                    23         807.0              0   \n",
       "44609      21781.38                    60         858.0              0   \n",
       "44264      27485.15                    81         667.0              0   \n",
       "33556      25054.25                    32         690.0              0   \n",
       "28050      65186.23                    65         721.0              0   \n",
       "...             ...                   ...           ...            ...   \n",
       "37523      26632.82                     2         790.0              0   \n",
       "36228      16150.12                    18         791.0              0   \n",
       "32772      27253.76                    16         709.0              0   \n",
       "9762       35727.99                     9         691.0              0   \n",
       "33325      23630.38                    49         791.0              0   \n",
       "\n",
       "       default_in_last_6months  credit_card_default  \n",
       "34126                        0                    0  \n",
       "44609                        0                    0  \n",
       "44264                        0                    1  \n",
       "33556                        0                    0  \n",
       "28050                        0                    0  \n",
       "...                        ...                  ...  \n",
       "37523                        0                    0  \n",
       "36228                        0                    0  \n",
       "32772                        0                    0  \n",
       "9762                         0                    0  \n",
       "33325                        0                    0  \n",
       "\n",
       "[30000 rows x 19 columns]"
      ]
     },
     "execution_count": 5,
     "metadata": {},
     "output_type": "execute_result"
    }
   ],
   "source": [
    "df = train.sample(n = 30000, random_state = 42, replace = False)\n",
    "df"
   ]
  },
  {
   "cell_type": "markdown",
   "id": "261fced8",
   "metadata": {},
   "source": [
    "EDA"
   ]
  },
  {
   "cell_type": "code",
   "execution_count": 6,
   "id": "a4134231",
   "metadata": {},
   "outputs": [
    {
     "name": "stdout",
     "output_type": "stream",
     "text": [
      "(30000, 19)\n"
     ]
    }
   ],
   "source": [
    "# check shape and length\n",
    "print(df.shape)"
   ]
  },
  {
   "cell_type": "code",
   "execution_count": 7,
   "id": "db86a838",
   "metadata": {},
   "outputs": [
    {
     "name": "stdout",
     "output_type": "stream",
     "text": [
      "<class 'pandas.core.frame.DataFrame'>\n",
      "Index: 30000 entries, 34126 to 33325\n",
      "Data columns (total 19 columns):\n",
      " #   Column                   Non-Null Count  Dtype  \n",
      "---  ------                   --------------  -----  \n",
      " 0   customer_id              30000 non-null  object \n",
      " 1   name                     30000 non-null  object \n",
      " 2   age                      30000 non-null  int64  \n",
      " 3   gender                   30000 non-null  object \n",
      " 4   owns_car                 29631 non-null  object \n",
      " 5   owns_house               30000 non-null  object \n",
      " 6   no_of_children           29498 non-null  float64\n",
      " 7   net_yearly_income        30000 non-null  float64\n",
      " 8   no_of_days_employed      29685 non-null  float64\n",
      " 9   occupation_type          30000 non-null  object \n",
      " 10  total_family_members     29944 non-null  float64\n",
      " 11  migrant_worker           29947 non-null  float64\n",
      " 12  yearly_debt_payments     29938 non-null  float64\n",
      " 13  credit_limit             30000 non-null  float64\n",
      " 14  credit_limit_used(%)     30000 non-null  int64  \n",
      " 15  credit_score             29994 non-null  float64\n",
      " 16  prev_defaults            30000 non-null  int64  \n",
      " 17  default_in_last_6months  30000 non-null  int64  \n",
      " 18  credit_card_default      30000 non-null  int64  \n",
      "dtypes: float64(8), int64(5), object(6)\n",
      "memory usage: 4.6+ MB\n"
     ]
    }
   ],
   "source": [
    "df.info()"
   ]
  },
  {
   "cell_type": "code",
   "execution_count": 8,
   "id": "edb2c72a",
   "metadata": {},
   "outputs": [
    {
     "name": "stdout",
     "output_type": "stream",
     "text": [
      "no of cat feats:  6\n",
      "no of num feats:  13\n"
     ]
    }
   ],
   "source": [
    "cat_feats = [col for col in df.columns if df[col].dtypes == \"object\"]\n",
    "num_feats =  [col for col in df.columns if df[col].dtypes != \"object\"]\n",
    "\n",
    "print(\"no of cat feats: \", len(cat_feats))\n",
    "print(\"no of num feats: \", len(num_feats))"
   ]
  },
  {
   "cell_type": "code",
   "execution_count": 9,
   "id": "540355b9",
   "metadata": {},
   "outputs": [
    {
     "data": {
      "text/plain": [
       "['customer_id', 'name', 'gender', 'owns_car', 'owns_house', 'occupation_type']"
      ]
     },
     "execution_count": 9,
     "metadata": {},
     "output_type": "execute_result"
    }
   ],
   "source": [
    "cat_feats"
   ]
  },
  {
   "cell_type": "code",
   "execution_count": 10,
   "id": "f817269b",
   "metadata": {},
   "outputs": [
    {
     "data": {
      "text/plain": [
       "['age',\n",
       " 'no_of_children',\n",
       " 'net_yearly_income',\n",
       " 'no_of_days_employed',\n",
       " 'total_family_members',\n",
       " 'migrant_worker',\n",
       " 'yearly_debt_payments',\n",
       " 'credit_limit',\n",
       " 'credit_limit_used(%)',\n",
       " 'credit_score',\n",
       " 'prev_defaults',\n",
       " 'default_in_last_6months',\n",
       " 'credit_card_default']"
      ]
     },
     "execution_count": 10,
     "metadata": {},
     "output_type": "execute_result"
    }
   ],
   "source": [
    "num_feats"
   ]
  },
  {
   "cell_type": "code",
   "execution_count": 11,
   "id": "0986176e",
   "metadata": {},
   "outputs": [
    {
     "data": {
      "text/plain": [
       "np.int64(0)"
      ]
     },
     "execution_count": 11,
     "metadata": {},
     "output_type": "execute_result"
    }
   ],
   "source": [
    "df.duplicated().sum()"
   ]
  },
  {
   "cell_type": "code",
   "execution_count": 12,
   "id": "b88af340",
   "metadata": {},
   "outputs": [
    {
     "data": {
      "text/plain": [
       "no_of_children          502\n",
       "owns_car                369\n",
       "no_of_days_employed     315\n",
       "yearly_debt_payments     62\n",
       "total_family_members     56\n",
       "migrant_worker           53\n",
       "credit_score              6\n",
       "age                       0\n",
       "name                      0\n",
       "customer_id               0\n",
       "dtype: int64"
      ]
     },
     "execution_count": 12,
     "metadata": {},
     "output_type": "execute_result"
    }
   ],
   "source": [
    "df.isnull().sum().sort_values(ascending=False).head(10)"
   ]
  },
  {
   "cell_type": "code",
   "execution_count": 13,
   "id": "b9c292ef",
   "metadata": {},
   "outputs": [
    {
     "data": {
      "text/plain": [
       "credit_card_default\n",
       "0    27537\n",
       "1     2463\n",
       "Name: count, dtype: int64"
      ]
     },
     "execution_count": 13,
     "metadata": {},
     "output_type": "execute_result"
    }
   ],
   "source": [
    "df[\"credit_card_default\"].value_counts()"
   ]
  },
  {
   "cell_type": "code",
   "execution_count": 14,
   "id": "aa19fc82",
   "metadata": {},
   "outputs": [
    {
     "data": {
      "text/plain": [
       "credit_card_default\n",
       "0    0.9179\n",
       "1    0.0821\n",
       "Name: proportion, dtype: float64"
      ]
     },
     "execution_count": 14,
     "metadata": {},
     "output_type": "execute_result"
    }
   ],
   "source": [
    "df[\"credit_card_default\"].value_counts(normalize=True)"
   ]
  },
  {
   "cell_type": "code",
   "execution_count": 15,
   "id": "4eca7e81",
   "metadata": {},
   "outputs": [
    {
     "data": {
      "text/plain": [
       "customer_id          0\n",
       "name                 0\n",
       "gender               0\n",
       "owns_car           369\n",
       "owns_house           0\n",
       "occupation_type      0\n",
       "dtype: int64"
      ]
     },
     "execution_count": 15,
     "metadata": {},
     "output_type": "execute_result"
    }
   ],
   "source": [
    "df[cat_feats].isnull().sum()"
   ]
  },
  {
   "cell_type": "code",
   "execution_count": 16,
   "id": "4f18c1be",
   "metadata": {},
   "outputs": [
    {
     "name": "stdout",
     "output_type": "stream",
     "text": [
      "Column Name: customer_id\n",
      "customer_id\n",
      "CST_129867    0.000033\n",
      "CST_163708    0.000033\n",
      "CST_131305    0.000033\n",
      "CST_131350    0.000033\n",
      "CST_106655    0.000033\n",
      "                ...   \n",
      "CST_111529    0.000033\n",
      "CST_123262    0.000033\n",
      "CST_135120    0.000033\n",
      "CST_126807    0.000033\n",
      "CST_160777    0.000033\n",
      "Name: proportion, Length: 30000, dtype: float64\n",
      "\n",
      "\n",
      "Column Name: name\n",
      "name\n",
      "Jonathan            0.004367\n",
      "Jonathan Stempel    0.004133\n",
      "Jessica             0.003600\n",
      "Sarah               0.003533\n",
      "David               0.003467\n",
      "                      ...   \n",
      "Mark Blinch         0.000033\n",
      "Goldberg            0.000033\n",
      "Bhal                0.000033\n",
      "Daniel Wallis       0.000033\n",
      "Sylvia              0.000033\n",
      "Name: proportion, Length: 3514, dtype: float64\n",
      "\n",
      "\n",
      "Column Name: gender\n",
      "gender\n",
      "F      0.657700\n",
      "M      0.342267\n",
      "XNA    0.000033\n",
      "Name: proportion, dtype: float64\n",
      "\n",
      "\n",
      "Column Name: owns_car\n",
      "owns_car\n",
      "N    0.660862\n",
      "Y    0.339138\n",
      "Name: proportion, dtype: float64\n",
      "\n",
      "\n",
      "Column Name: owns_house\n",
      "owns_house\n",
      "Y    0.6962\n",
      "N    0.3038\n",
      "Name: proportion, dtype: float64\n",
      "\n",
      "\n",
      "Column Name: occupation_type\n",
      "occupation_type\n",
      "Unknown                  0.314500\n",
      "Laborers                 0.178200\n",
      "Sales staff              0.103000\n",
      "Core staff               0.089900\n",
      "Managers                 0.069033\n",
      "Drivers                  0.060767\n",
      "High skill tech staff    0.037567\n",
      "Accountants              0.031433\n",
      "Medicine staff           0.028067\n",
      "Security staff           0.022100\n",
      "Cooking staff            0.019667\n",
      "Cleaning staff           0.015000\n",
      "Private service staff    0.008467\n",
      "Low-skill Laborers       0.007633\n",
      "Secretaries              0.004700\n",
      "Waiters/barmen staff     0.004600\n",
      "Realty agents            0.002000\n",
      "HR staff                 0.001700\n",
      "IT staff                 0.001667\n",
      "Name: proportion, dtype: float64\n",
      "\n",
      "\n"
     ]
    }
   ],
   "source": [
    "for i in cat_feats:\n",
    "    print(\"Column Name:\",i)\n",
    "    print(df[i].value_counts(normalize=True))\n",
    "    print(\"\\n\")"
   ]
  },
  {
   "cell_type": "code",
   "execution_count": 17,
   "id": "0bd9d8d6",
   "metadata": {},
   "outputs": [
    {
     "data": {
      "text/html": [
       "<div>\n",
       "<style scoped>\n",
       "    .dataframe tbody tr th:only-of-type {\n",
       "        vertical-align: middle;\n",
       "    }\n",
       "\n",
       "    .dataframe tbody tr th {\n",
       "        vertical-align: top;\n",
       "    }\n",
       "\n",
       "    .dataframe thead th {\n",
       "        text-align: right;\n",
       "    }\n",
       "</style>\n",
       "<table border=\"1\" class=\"dataframe\">\n",
       "  <thead>\n",
       "    <tr style=\"text-align: right;\">\n",
       "      <th></th>\n",
       "      <th>customer_id</th>\n",
       "      <th>name</th>\n",
       "      <th>age</th>\n",
       "      <th>gender</th>\n",
       "      <th>owns_car</th>\n",
       "      <th>owns_house</th>\n",
       "      <th>no_of_children</th>\n",
       "      <th>net_yearly_income</th>\n",
       "      <th>no_of_days_employed</th>\n",
       "      <th>occupation_type</th>\n",
       "      <th>total_family_members</th>\n",
       "      <th>migrant_worker</th>\n",
       "      <th>yearly_debt_payments</th>\n",
       "      <th>credit_limit</th>\n",
       "      <th>credit_limit_used(%)</th>\n",
       "      <th>credit_score</th>\n",
       "      <th>prev_defaults</th>\n",
       "      <th>default_in_last_6months</th>\n",
       "      <th>credit_card_default</th>\n",
       "    </tr>\n",
       "  </thead>\n",
       "  <tbody>\n",
       "    <tr>\n",
       "      <th>28498</th>\n",
       "      <td>CST_144669</td>\n",
       "      <td>ernard</td>\n",
       "      <td>52</td>\n",
       "      <td>XNA</td>\n",
       "      <td>N</td>\n",
       "      <td>Y</td>\n",
       "      <td>2.0</td>\n",
       "      <td>203596.95</td>\n",
       "      <td>2806.0</td>\n",
       "      <td>Low-skill Laborers</td>\n",
       "      <td>4.0</td>\n",
       "      <td>0.0</td>\n",
       "      <td>14700.2</td>\n",
       "      <td>65487.34</td>\n",
       "      <td>40</td>\n",
       "      <td>669.0</td>\n",
       "      <td>0</td>\n",
       "      <td>0</td>\n",
       "      <td>0</td>\n",
       "    </tr>\n",
       "  </tbody>\n",
       "</table>\n",
       "</div>"
      ],
      "text/plain": [
       "      customer_id    name  age gender owns_car owns_house  no_of_children  \\\n",
       "28498  CST_144669  ernard   52    XNA        N          Y             2.0   \n",
       "\n",
       "       net_yearly_income  no_of_days_employed     occupation_type  \\\n",
       "28498          203596.95               2806.0  Low-skill Laborers   \n",
       "\n",
       "       total_family_members  migrant_worker  yearly_debt_payments  \\\n",
       "28498                   4.0             0.0               14700.2   \n",
       "\n",
       "       credit_limit  credit_limit_used(%)  credit_score  prev_defaults  \\\n",
       "28498      65487.34                    40         669.0              0   \n",
       "\n",
       "       default_in_last_6months  credit_card_default  \n",
       "28498                        0                    0  "
      ]
     },
     "execution_count": 17,
     "metadata": {},
     "output_type": "execute_result"
    }
   ],
   "source": [
    "df[df['gender'] == 'XNA']"
   ]
  },
  {
   "cell_type": "code",
   "execution_count": 18,
   "id": "41c0f9a3",
   "metadata": {},
   "outputs": [
    {
     "data": {
      "text/plain": [
       "gender\n",
       "F    19731\n",
       "M    10269\n",
       "Name: count, dtype: int64"
      ]
     },
     "execution_count": 18,
     "metadata": {},
     "output_type": "execute_result"
    }
   ],
   "source": [
    "# change it to M as the name pronunces as Male\n",
    "df['gender'] = df['gender'].apply(lambda x: 'M' if x=='XNA' else x)\n",
    "df['gender'].value_counts()"
   ]
  },
  {
   "cell_type": "code",
   "execution_count": 19,
   "id": "5e986c88",
   "metadata": {},
   "outputs": [
    {
     "name": "stderr",
     "output_type": "stream",
     "text": [
      "C:\\Users\\kasar\\AppData\\Local\\Temp\\ipykernel_3576\\3735598712.py:2: FutureWarning: A value is trying to be set on a copy of a DataFrame or Series through chained assignment using an inplace method.\n",
      "The behavior will change in pandas 3.0. This inplace method will never work because the intermediate object on which we are setting values always behaves as a copy.\n",
      "\n",
      "For example, when doing 'df[col].method(value, inplace=True)', try using 'df.method({col: value}, inplace=True)' or df[col] = df[col].method(value) instead, to perform the operation inplace on the original object.\n",
      "\n",
      "\n",
      "  df['owns_car'].fillna(df['owns_car'].mode()[0], inplace=True)\n"
     ]
    }
   ],
   "source": [
    "# fill owns_car with mode of the data\n",
    "df['owns_car'].fillna(df['owns_car'].mode()[0], inplace=True)"
   ]
  },
  {
   "cell_type": "code",
   "execution_count": 20,
   "id": "ba88624e",
   "metadata": {},
   "outputs": [
    {
     "data": {
      "text/plain": [
       "owns_car\n",
       "N    0.665033\n",
       "Y    0.334967\n",
       "Name: proportion, dtype: float64"
      ]
     },
     "execution_count": 20,
     "metadata": {},
     "output_type": "execute_result"
    }
   ],
   "source": [
    "df[\"owns_car\"].value_counts(normalize=True)"
   ]
  },
  {
   "cell_type": "code",
   "execution_count": 21,
   "id": "7b1fbf96",
   "metadata": {},
   "outputs": [
    {
     "data": {
      "text/plain": [
       "customer_id        0\n",
       "name               0\n",
       "gender             0\n",
       "owns_car           0\n",
       "owns_house         0\n",
       "occupation_type    0\n",
       "dtype: int64"
      ]
     },
     "execution_count": 21,
     "metadata": {},
     "output_type": "execute_result"
    }
   ],
   "source": [
    "df[cat_feats].isnull().sum()"
   ]
  },
  {
   "cell_type": "code",
   "execution_count": 22,
   "id": "23504eee",
   "metadata": {},
   "outputs": [
    {
     "data": {
      "text/plain": [
       "no_of_children          502\n",
       "no_of_days_employed     315\n",
       "yearly_debt_payments     62\n",
       "total_family_members     56\n",
       "migrant_worker           53\n",
       "credit_score              6\n",
       "age                       0\n",
       "net_yearly_income         0\n",
       "credit_limit              0\n",
       "credit_limit_used(%)      0\n",
       "dtype: int64"
      ]
     },
     "execution_count": 22,
     "metadata": {},
     "output_type": "execute_result"
    }
   ],
   "source": [
    "df[num_feats].isnull().sum().sort_values(ascending=False).head(10)"
   ]
  },
  {
   "cell_type": "code",
   "execution_count": 23,
   "id": "8c094e41",
   "metadata": {},
   "outputs": [],
   "source": [
    "# impute 'no_of_days_employed' with median based on 'occupation_type'\n",
    "occp_days_employed = df.groupby(by='occupation_type')['no_of_days_employed'].median()\n",
    "\n",
    "for i in occp_days_employed.index:\n",
    "    df['no_of_days_employed'] = np.where((df['no_of_days_employed'].isna()) & (df['occupation_type'] == i), occp_days_employed[i], df['no_of_days_employed'])"
   ]
  },
  {
   "cell_type": "code",
   "execution_count": 24,
   "id": "ba9b625a",
   "metadata": {},
   "outputs": [
    {
     "data": {
      "text/plain": [
       "np.int64(0)"
      ]
     },
     "execution_count": 24,
     "metadata": {},
     "output_type": "execute_result"
    }
   ],
   "source": [
    "df.no_of_days_employed.isna().sum()"
   ]
  },
  {
   "cell_type": "code",
   "execution_count": 25,
   "id": "b74a89d4",
   "metadata": {},
   "outputs": [],
   "source": [
    "# impute 'yearly_debt_payments' with median based on 'credit_card_default'\n",
    "yearDebt_credit = df.groupby(by='credit_card_default')['yearly_debt_payments'].median()\n",
    "for i in yearDebt_credit.index:\n",
    "    df['yearly_debt_payments'] = np.where((df['yearly_debt_payments'].isna()) & (df['credit_card_default'] == i), yearDebt_credit[i], df['yearly_debt_payments'])"
   ]
  },
  {
   "cell_type": "code",
   "execution_count": 26,
   "id": "52115526",
   "metadata": {},
   "outputs": [
    {
     "data": {
      "text/plain": [
       "np.int64(0)"
      ]
     },
     "execution_count": 26,
     "metadata": {},
     "output_type": "execute_result"
    }
   ],
   "source": [
    "df['yearly_debt_payments'].isna().sum()"
   ]
  },
  {
   "cell_type": "code",
   "execution_count": 27,
   "id": "8d5ff972",
   "metadata": {},
   "outputs": [
    {
     "data": {
      "text/plain": [
       "no_of_children          502\n",
       "total_family_members     56\n",
       "migrant_worker           53\n",
       "credit_score              6\n",
       "age                       0\n",
       "dtype: int64"
      ]
     },
     "execution_count": 27,
     "metadata": {},
     "output_type": "execute_result"
    }
   ],
   "source": [
    "df[num_feats].isnull().sum().sort_values(ascending = False).head(5)"
   ]
  },
  {
   "cell_type": "code",
   "execution_count": 28,
   "id": "b1054b82",
   "metadata": {},
   "outputs": [],
   "source": [
    "# impute 'no_of_days_employed' with median based on 'occupation_type'\n",
    "occp_days_employed = df.groupby(by='occupation_type')['no_of_days_employed'].median()\n",
    "\n",
    "for i in occp_days_employed.index:\n",
    "    df['no_of_days_employed'] = np.where((df['no_of_days_employed'].isna()) & (df['occupation_type'] == i), occp_days_employed[i], df['no_of_days_employed'])"
   ]
  },
  {
   "cell_type": "code",
   "execution_count": 29,
   "id": "ab6b2398",
   "metadata": {},
   "outputs": [
    {
     "data": {
      "text/plain": [
       "np.int64(0)"
      ]
     },
     "execution_count": 29,
     "metadata": {},
     "output_type": "execute_result"
    }
   ],
   "source": [
    "df.no_of_days_employed.isna().sum()"
   ]
  },
  {
   "cell_type": "code",
   "execution_count": 30,
   "id": "2a550b72",
   "metadata": {},
   "outputs": [],
   "source": [
    "# impute 'yearly_debt_payments' with median based on 'credit_card_default'\n",
    "yearDebt_credit = df.groupby(by='credit_card_default')['yearly_debt_payments'].median()\n",
    "for i in yearDebt_credit.index:\n",
    "    df['yearly_debt_payments'] = np.where((df['yearly_debt_payments'].isna()) & (df['credit_card_default'] == i), yearDebt_credit[i], df['yearly_debt_payments'])"
   ]
  },
  {
   "cell_type": "code",
   "execution_count": 31,
   "id": "a522a8d6",
   "metadata": {},
   "outputs": [
    {
     "data": {
      "text/plain": [
       "np.int64(0)"
      ]
     },
     "execution_count": 31,
     "metadata": {},
     "output_type": "execute_result"
    }
   ],
   "source": [
    "df['yearly_debt_payments'].isna().sum()"
   ]
  },
  {
   "cell_type": "code",
   "execution_count": 32,
   "id": "d33c2d93",
   "metadata": {},
   "outputs": [
    {
     "data": {
      "text/plain": [
       "no_of_children          502\n",
       "total_family_members     56\n",
       "migrant_worker           53\n",
       "credit_score              6\n",
       "age                       0\n",
       "dtype: int64"
      ]
     },
     "execution_count": 32,
     "metadata": {},
     "output_type": "execute_result"
    }
   ],
   "source": [
    "df[num_feats].isnull().sum().sort_values(ascending = False).head(5)"
   ]
  },
  {
   "cell_type": "code",
   "execution_count": 33,
   "id": "5f6d17e3",
   "metadata": {},
   "outputs": [
    {
     "data": {
      "text/plain": [
       "0    0.0\n",
       "Name: migrant_worker, dtype: float64"
      ]
     },
     "execution_count": 33,
     "metadata": {},
     "output_type": "execute_result"
    }
   ],
   "source": [
    "df['migrant_worker'].mode()"
   ]
  },
  {
   "cell_type": "code",
   "execution_count": 34,
   "id": "e0ff2615",
   "metadata": {},
   "outputs": [
    {
     "name": "stderr",
     "output_type": "stream",
     "text": [
      "C:\\Users\\kasar\\AppData\\Local\\Temp\\ipykernel_3576\\341355721.py:2: FutureWarning: A value is trying to be set on a copy of a DataFrame or Series through chained assignment using an inplace method.\n",
      "The behavior will change in pandas 3.0. This inplace method will never work because the intermediate object on which we are setting values always behaves as a copy.\n",
      "\n",
      "For example, when doing 'df[col].method(value, inplace=True)', try using 'df.method({col: value}, inplace=True)' or df[col] = df[col].method(value) instead, to perform the operation inplace on the original object.\n",
      "\n",
      "\n",
      "  df['migrant_worker'].fillna(df['migrant_worker'].mode()[0], inplace=True)\n"
     ]
    },
    {
     "data": {
      "text/plain": [
       "np.int64(0)"
      ]
     },
     "execution_count": 34,
     "metadata": {},
     "output_type": "execute_result"
    }
   ],
   "source": [
    "# imputing with mode of the data\n",
    "df['migrant_worker'].fillna(df['migrant_worker'].mode()[0], inplace=True)\n",
    "\n",
    "# check null values count\n",
    "df['migrant_worker'].isna().sum()"
   ]
  },
  {
   "cell_type": "code",
   "execution_count": 35,
   "id": "6a9cd6e2",
   "metadata": {},
   "outputs": [
    {
     "name": "stderr",
     "output_type": "stream",
     "text": [
      "C:\\Users\\kasar\\AppData\\Local\\Temp\\ipykernel_3576\\625074398.py:2: FutureWarning: A value is trying to be set on a copy of a DataFrame or Series through chained assignment using an inplace method.\n",
      "The behavior will change in pandas 3.0. This inplace method will never work because the intermediate object on which we are setting values always behaves as a copy.\n",
      "\n",
      "For example, when doing 'df[col].method(value, inplace=True)', try using 'df.method({col: value}, inplace=True)' or df[col] = df[col].method(value) instead, to perform the operation inplace on the original object.\n",
      "\n",
      "\n",
      "  df['total_family_members'].fillna(df['total_family_members'].mode()[0], inplace=True)\n"
     ]
    },
    {
     "data": {
      "text/plain": [
       "np.int64(0)"
      ]
     },
     "execution_count": 35,
     "metadata": {},
     "output_type": "execute_result"
    }
   ],
   "source": [
    "# imputing with mode of the data\n",
    "df['total_family_members'].fillna(df['total_family_members'].mode()[0], inplace=True)\n",
    "\n",
    "# check null values count\n",
    "df['total_family_members'].isna().sum()"
   ]
  },
  {
   "cell_type": "code",
   "execution_count": 36,
   "id": "cba828d0",
   "metadata": {},
   "outputs": [
    {
     "data": {
      "text/plain": [
       "no_of_children         502\n",
       "credit_score             6\n",
       "age                      0\n",
       "no_of_days_employed      0\n",
       "net_yearly_income        0\n",
       "dtype: int64"
      ]
     },
     "execution_count": 36,
     "metadata": {},
     "output_type": "execute_result"
    }
   ],
   "source": [
    "df[num_feats].isnull().sum().sort_values(ascending = False).head(5)"
   ]
  },
  {
   "cell_type": "code",
   "execution_count": 37,
   "id": "0115ee89",
   "metadata": {},
   "outputs": [
    {
     "name": "stderr",
     "output_type": "stream",
     "text": [
      "C:\\Users\\kasar\\AppData\\Local\\Temp\\ipykernel_3576\\1293685831.py:2: FutureWarning: A value is trying to be set on a copy of a DataFrame or Series through chained assignment using an inplace method.\n",
      "The behavior will change in pandas 3.0. This inplace method will never work because the intermediate object on which we are setting values always behaves as a copy.\n",
      "\n",
      "For example, when doing 'df[col].method(value, inplace=True)', try using 'df.method({col: value}, inplace=True)' or df[col] = df[col].method(value) instead, to perform the operation inplace on the original object.\n",
      "\n",
      "\n",
      "  df['no_of_children'].fillna(df['no_of_children'].mode()[0], inplace=True)\n"
     ]
    }
   ],
   "source": [
    "# fill no_of_children with mode of the data\n",
    "df['no_of_children'].fillna(df['no_of_children'].mode()[0], inplace=True)"
   ]
  },
  {
   "cell_type": "code",
   "execution_count": 38,
   "id": "cb27490e",
   "metadata": {},
   "outputs": [
    {
     "data": {
      "text/plain": [
       "np.int64(0)"
      ]
     },
     "execution_count": 38,
     "metadata": {},
     "output_type": "execute_result"
    }
   ],
   "source": [
    "# check medians of credit_score wrt credit_card_default\n",
    "cred_score = df.groupby(by='credit_card_default')['credit_score'].median()\n",
    "\n",
    "for i in cred_score.index:\n",
    "    df['credit_score'] = np.where((df['credit_score'].isna()) & (df['credit_card_default'] == i), cred_score[i], df['credit_score'])\n",
    "\n",
    "# check for null values in 'credit_score'\n",
    "df['credit_score'].isna().sum()"
   ]
  },
  {
   "cell_type": "code",
   "execution_count": 39,
   "id": "aea4e2df",
   "metadata": {},
   "outputs": [
    {
     "data": {
      "text/plain": [
       "age                        0\n",
       "no_of_children             0\n",
       "net_yearly_income          0\n",
       "no_of_days_employed        0\n",
       "total_family_members       0\n",
       "migrant_worker             0\n",
       "yearly_debt_payments       0\n",
       "credit_limit               0\n",
       "credit_limit_used(%)       0\n",
       "credit_score               0\n",
       "prev_defaults              0\n",
       "default_in_last_6months    0\n",
       "credit_card_default        0\n",
       "dtype: int64"
      ]
     },
     "execution_count": 39,
     "metadata": {},
     "output_type": "execute_result"
    }
   ],
   "source": [
    "df[num_feats].isnull().sum().sort_values(ascending = False)"
   ]
  },
  {
   "cell_type": "code",
   "execution_count": 40,
   "id": "ca759e1d",
   "metadata": {},
   "outputs": [
    {
     "data": {
      "text/plain": [
       "customer_id                0\n",
       "name                       0\n",
       "age                        0\n",
       "gender                     0\n",
       "owns_car                   0\n",
       "owns_house                 0\n",
       "no_of_children             0\n",
       "net_yearly_income          0\n",
       "no_of_days_employed        0\n",
       "occupation_type            0\n",
       "total_family_members       0\n",
       "migrant_worker             0\n",
       "yearly_debt_payments       0\n",
       "credit_limit               0\n",
       "credit_limit_used(%)       0\n",
       "credit_score               0\n",
       "prev_defaults              0\n",
       "default_in_last_6months    0\n",
       "credit_card_default        0\n",
       "dtype: int64"
      ]
     },
     "execution_count": 40,
     "metadata": {},
     "output_type": "execute_result"
    }
   ],
   "source": [
    "df.isnull().sum()"
   ]
  },
  {
   "cell_type": "code",
   "execution_count": 41,
   "id": "46ccdf9c",
   "metadata": {},
   "outputs": [
    {
     "data": {
      "image/png": "[encoded data removed]",
      "text/plain": [
       "<Figure size 640x480 with 1 Axes>"
      ]
     },
     "metadata": {},
     "output_type": "display_data"
    }
   ],
   "source": [
    "# Ploting Credit_default ratio\n",
    "total_default_values = df.credit_card_default.value_counts(ascending=True).values\n",
    "\n",
    "plt.figure()\n",
    "plt.pie(total_default_values, labels=['Defaulter', 'Not Defaulter'], autopct='%1.1f%%', shadow=True)\n",
    "plt.title('Defaulter Ratio', fontsize=18)\n",
    "plt.show()"
   ]
  },
  {
   "cell_type": "code",
   "execution_count": 42,
   "id": "77f83115",
   "metadata": {},
   "outputs": [
    {
     "name": "stderr",
     "output_type": "stream",
     "text": [
      "C:\\Users\\kasar\\AppData\\Local\\Temp\\ipykernel_3576\\265951273.py:3: UserWarning: \n",
      "\n",
      "`distplot` is a deprecated function and will be removed in seaborn v0.14.0.\n",
      "\n",
      "Please adapt your code to use either `displot` (a figure-level function with\n",
      "similar flexibility) or `histplot` (an axes-level function for histograms).\n",
      "\n",
      "For a guide to updating your code to use the new functions, please see\n",
      "https://gist.github.com/mwaskom/de44147ed2974457ad6372750bbe5751\n",
      "\n",
      "  sns.distplot(df['age'])\n"
     ]
    },
    {
     "data": {
      "image/png": "[encoded data removed]",
      "text/plain": [
       "<Figure size 640x480 with 1 Axes>"
      ]
     },
     "metadata": {},
     "output_type": "display_data"
    }
   ],
   "source": [
    "# visualize AGE feature - distplot\n",
    "plt.figure()\n",
    "sns.distplot(df['age'])\n",
    "plt.show()"
   ]
  },
  {
   "cell_type": "code",
   "execution_count": 46,
   "id": "818abf6d",
   "metadata": {},
   "outputs": [
    {
     "data": {
      "image/png": "[encoded data removed]",
      "text/plain": [
       "<Figure size 700x600 with 1 Axes>"
      ]
     },
     "metadata": {},
     "output_type": "display_data"
    }
   ],
   "source": [
    "# boxplot of credit_defaulter-credit_score\n",
    "plt.figure(figsize=[7,6])\n",
    "sns.boxplot(x = df['credit_card_default'], y = df['credit_score'])\n",
    "plt.show()"
   ]
  },
  {
   "cell_type": "code",
   "execution_count": 48,
   "id": "2901e1e4",
   "metadata": {},
   "outputs": [
    {
     "data": {
      "image/png": "[encoded data removed]",
      "text/plain": [
       "<Figure size 700x600 with 1 Axes>"
      ]
     },
     "metadata": {},
     "output_type": "display_data"
    }
   ],
   "source": [
    "# boxplot of credit_defaulter-credit_limit_utilization\n",
    "plt.figure(figsize=[7,6])\n",
    "sns.boxplot(x = df['credit_card_default'], y = df['credit_limit_used(%)'])\n",
    "plt.show()"
   ]
  },
  {
   "cell_type": "code",
   "execution_count": 49,
   "id": "b12e44d2",
   "metadata": {},
   "outputs": [
    {
     "data": {
      "image/png": "[encoded data removed]",
      "text/plain": [
       "<Figure size 1800x800 with 1 Axes>"
      ]
     },
     "metadata": {},
     "output_type": "display_data"
    }
   ],
   "source": [
    "# barplots for occupation types wrt credit_default\n",
    "plt.figure(figsize=[18,8])\n",
    "sns.barplot(x=df['occupation_type'], y=df['net_yearly_income'], hue=df['credit_card_default'])\n",
    "plt.xticks(rotation=45)\n",
    "plt.show()"
   ]
  },
  {
   "cell_type": "code",
   "execution_count": 51,
   "id": "0e97bf75",
   "metadata": {},
   "outputs": [
    {
     "data": {
      "image/png": "[encoded data removed]",
      "text/plain": [
       "<Figure size 700x600 with 1 Axes>"
      ]
     },
     "metadata": {},
     "output_type": "display_data"
    }
   ],
   "source": [
    "# male or female defaulters\n",
    "plt.figure(figsize=[7,6])\n",
    "sns.countplot(x = df['gender'], hue=df['credit_card_default'])\n",
    "plt.show()"
   ]
  },
  {
   "cell_type": "code",
   "execution_count": 52,
   "id": "69eddbdb",
   "metadata": {},
   "outputs": [
    {
     "data": {
      "image/png": "[encoded data removed]",
      "text/plain": [
       "<Figure size 1600x1200 with 5 Axes>"
      ]
     },
     "metadata": {},
     "output_type": "display_data"
    }
   ],
   "source": [
    "# boxplot of all continuous variables\n",
    "\n",
    "plt.figure(figsize=[16, 12])\n",
    "plt.subplot(2,3,1)\n",
    "df['net_yearly_income'].plot.box()\n",
    "plt.title('net_yearly_income Box Plot')\n",
    "\n",
    "plt.subplot(2,3,2)\n",
    "df['no_of_days_employed'].plot.box()\n",
    "plt.title('no_of_days_employed Box Plot')\n",
    "\n",
    "plt.subplot(2,3,3)\n",
    "df['yearly_debt_payments'].plot.box()\n",
    "plt.title('yearly_debt_payments Box Plot')\n",
    "\n",
    "plt.subplot(2,3,4)\n",
    "df['credit_limit'].plot.box()\n",
    "plt.title('credit_limit Box Plot')\n",
    "\n",
    "plt.subplot(2,3,5)\n",
    "df['credit_score'].plot.box()\n",
    "plt.title('credit_score Box Plot')\n",
    "plt.show()"
   ]
  }
 ],
 "metadata": {
  "kernelspec": {
   "display_name": "Python 3",
   "language": "python",
   "name": "python3"
  },
  "language_info": {
   "codemirror_mode": {
    "name": "ipython",
    "version": 3
   },
   "file_extension": ".py",
   "mimetype": "text/x-python",
   "name": "python",
   "nbconvert_exporter": "python",
   "pygments_lexer": "ipython3",
   "version": "3.13.2"
  }
 },
 "nbformat": 4,
 "nbformat_minor": 5
}
